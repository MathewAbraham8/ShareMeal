{
 "cells": [
  {
   "cell_type": "code",
   "execution_count": 7,
   "id": "99525c49-b5c1-4255-86e0-ab515e92b870",
   "metadata": {},
   "outputs": [
    {
     "name": "stdout",
     "output_type": "stream",
     "text": [
      "1/1 [==============================] - 0s 91ms/step\n",
      "Predicted Class: class_4\n"
     ]
    }
   ],
   "source": [
    "from keras.models import load_model\n",
    "import numpy as np\n",
    "from keras.preprocessing import image\n",
    "\n",
    "# Load the saved model\n",
    "model = load_model('model.h5')\n",
    "\n",
    "# Load test images\n",
    "test_image = image.load_img('b_r142.png', target_size=(64, 64))\n",
    "\n",
    "# Preprocess the test image\n",
    "test_image = image.img_to_array(test_image)\n",
    "test_image = np.expand_dims(test_image, axis=0)\n",
    "test_image = test_image / 255.  # Rescale\n",
    "\n",
    "# Make prediction\n",
    "result = model.predict(test_image)\n",
    "\n",
    "# Check the predicted class\n",
    "predicted_class = np.argmax(result)\n",
    "classes = {0: 'class_0', 1: 'class_1', 2: 'class_2', 3: 'class_3', 4: 'class_4', 5: 'class_5'}\n",
    "print(\"Predicted Class:\", classes[predicted_class])"
   ]
  },
  {
   "cell_type": "code",
   "execution_count": null,
   "id": "d60555a8-839a-414a-b615-aeb2cf17b4ae",
   "metadata": {},
   "outputs": [],
   "source": []
  }
 ],
 "metadata": {
  "kernelspec": {
   "display_name": "Python 3 (ipykernel)",
   "language": "python",
   "name": "python3"
  },
  "language_info": {
   "codemirror_mode": {
    "name": "ipython",
    "version": 3
   },
   "file_extension": ".py",
   "mimetype": "text/x-python",
   "name": "python",
   "nbconvert_exporter": "python",
   "pygments_lexer": "ipython3",
   "version": "3.10.9"
  }
 },
 "nbformat": 4,
 "nbformat_minor": 5
}
